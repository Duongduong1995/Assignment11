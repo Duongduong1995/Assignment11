{
 "cells": [
  {
   "cell_type": "code",
   "execution_count": 20,
   "id": "788b5eba",
   "metadata": {},
   "outputs": [],
   "source": [
    "import pandas as pd\n",
    "from sklearn.model_selection import train_test_split\n",
    "from sklearn.linear_model import LinearRegression\n",
    "from sklearn.tree import DecisionTreeRegressor\n",
    "from sklearn.ensemble import RandomForestRegressor\n",
    "from sklearn.metrics import mean_squared_error, mean_absolute_error\n",
    "from sklearn.preprocessing import MinMaxScaler, StandardScaler"
   ]
  },
  {
   "cell_type": "code",
   "execution_count": 7,
   "id": "ca6657c6",
   "metadata": {},
   "outputs": [],
   "source": [
    "def load_dataset(filename):\n",
    "    df_data = pd.read_csv(filename, header=None)\n",
    "    dataset = df_data.values\n",
    "    X = dataset[:, :-1]\n",
    "    y = dataset[:, -1]\n",
    "#     X = X.astype(str)\n",
    "    return X, y"
   ]
  },
  {
   "cell_type": "code",
   "execution_count": 15,
   "id": "5c12af9a",
   "metadata": {},
   "outputs": [
    {
     "name": "stdout",
     "output_type": "stream",
     "text": [
      "(506, 13)\n"
     ]
    }
   ],
   "source": [
    "X, y = load_dataset('C:/Users/thanh/Documents/Data/housing.csv')\n",
    "print(X.shape)"
   ]
  },
  {
   "cell_type": "code",
   "execution_count": 14,
   "id": "d019a66a",
   "metadata": {},
   "outputs": [],
   "source": [
    "X_train, X_test, y_train, y_test = train_test_split(X, y, test_size=0.3, random_state=1)"
   ]
  },
  {
   "cell_type": "code",
   "execution_count": 16,
   "id": "b0a17859",
   "metadata": {},
   "outputs": [
    {
     "data": {
      "text/plain": [
       "LinearRegression()"
      ]
     },
     "execution_count": 16,
     "metadata": {},
     "output_type": "execute_result"
    }
   ],
   "source": [
    "lrs_ml = LinearRegression()\n",
    "\n",
    "lrs_ml.fit(X_train, y_train)"
   ]
  },
  {
   "cell_type": "code",
   "execution_count": 17,
   "id": "c5811c80",
   "metadata": {},
   "outputs": [
    {
     "name": "stdout",
     "output_type": "stream",
     "text": [
      "Model MSE score: 19.83132367206308\n",
      "Model MAE score: 3.344665503598751\n"
     ]
    }
   ],
   "source": [
    "y_pred = lrs_ml.predict(X_test)\n",
    "\n",
    "mse = mean_squared_error(y_test, y_pred)\n",
    "print(f'Model MSE score: {mse}')\n",
    "\n",
    "mae = mean_absolute_error(y_test, y_pred)\n",
    "print(f'Model MAE score: {mae}')"
   ]
  },
  {
   "cell_type": "code",
   "execution_count": 23,
   "id": "bd45c206",
   "metadata": {},
   "outputs": [
    {
     "name": "stdout",
     "output_type": "stream",
     "text": [
      "(506, 13)\n"
     ]
    }
   ],
   "source": [
    "X, y = load_dataset('C:/Users/Enoza/Documents/Data/dataset/housing.csv')\n",
    "print(X.shape)"
   ]
  },
  {
   "cell_type": "code",
   "execution_count": 24,
   "id": "65286768",
   "metadata": {},
   "outputs": [],
   "source": [
    "X_train, X_test, y_train, y_test = train_test_split(X, y, test_size=0.3, random_state=1)"
   ]
  },
  {
   "cell_type": "code",
   "execution_count": 25,
   "id": "36875e2b",
   "metadata": {},
   "outputs": [
    {
     "data": {
      "text/plain": [
       "LinearRegression()"
      ]
     },
     "execution_count": 25,
     "metadata": {},
     "output_type": "execute_result"
    }
   ],
   "source": [
    "lrs_ml = LinearRegression()\n",
    "\n",
    "lrs_ml.fit(X_train, y_train)"
   ]
  },
  {
   "cell_type": "code",
   "execution_count": 9,
   "id": "83bc4713",
   "metadata": {},
   "outputs": [],
   "source": [
    "def load_dataset_scale(filename):\n",
    "    df_data = pd.read_csv(filename, header=None)\n",
    "    dataset = df_data.values\n",
    "    X = dataset[:, :-1]\n",
    "    y = dataset[:, -1]\n",
    "    \n",
    "#     scaler_n = MinMaxScaler()\n",
    "    scaler_s = StandardScaler()\n",
    "    X = scaler_s.fit_transform(X)\n",
    "    \n",
    "    return X, y"
   ]
  },
  {
   "cell_type": "code",
   "execution_count": 13,
   "id": "a1a9fc5f",
   "metadata": {},
   "outputs": [
    {
     "name": "stdout",
     "output_type": "stream",
     "text": [
      "(506, 13)\n"
     ]
    }
   ],
   "source": [
    "X, y = load_dataset_scale('C:/Users/thanh/Documents/Data/housing.csv')\n",
    "print(X.shape)"
   ]
  },
  {
   "cell_type": "code",
   "execution_count": 33,
   "id": "10a0298e",
   "metadata": {},
   "outputs": [
    {
     "name": "stdout",
     "output_type": "stream",
     "text": [
      "Model MSE score: 19.83132367206308\n",
      "Model MAE score: 3.344665503598751\n"
     ]
    }
   ],
   "source": [
    "y_pred = lrs_ml.predict(X_test)\n",
    "\n",
    "mse = mean_squared_error(y_test, y_pred)\n",
    "print(f'Model MSE score: {mse}')\n",
    "\n",
    "mae = mean_absolute_error(y_test, y_pred)\n",
    "print(f'Model MAE score: {mae}')"
   ]
  },
  {
   "cell_type": "code",
   "execution_count": 17,
   "id": "4a974328",
   "metadata": {},
   "outputs": [
    {
     "data": {
      "text/plain": [
       "DecisionTreeRegressor()"
      ]
     },
     "execution_count": 17,
     "metadata": {},
     "output_type": "execute_result"
    }
   ],
   "source": [
    "#DecisionTreeRegressor\n",
    "dtr_ml = DecisionTreeRegressor()\n",
    "\n",
    "dtr_ml.fit(X_train, y_train)"
   ]
  },
  {
   "cell_type": "code",
   "execution_count": 19,
   "id": "003d449f",
   "metadata": {},
   "outputs": [
    {
     "name": "stdout",
     "output_type": "stream",
     "text": [
      "Model MSE score: 16.785460526315788\n",
      "Model MAE score: 2.880921052631579\n"
     ]
    }
   ],
   "source": [
    "dtr_ml = DecisionTreeRegressor()\n",
    "y_pred = dtr_ml.predict(X_test)\n",
    "\n",
    "mse = mean_squared_error(y_test, y_pred)\n",
    "print(f'Model MSE score: {mse}')\n",
    "\n",
    "mae = mean_absolute_error(y_test, y_pred)\n",
    "print(f'Model MAE score: {mae}')"
   ]
  },
  {
   "cell_type": "code",
   "execution_count": 23,
   "id": "3dc09d04",
   "metadata": {},
   "outputs": [
    {
     "data": {
      "text/plain": [
       "RandomForestRegressor()"
      ]
     },
     "execution_count": 23,
     "metadata": {},
     "output_type": "execute_result"
    }
   ],
   "source": [
    "#RandomForestRegressor\n",
    "rfr_ml = RandomForestRegressor()\n",
    "\n",
    "rfr_ml.fit(X_train, y_train)"
   ]
  },
  {
   "cell_type": "code",
   "execution_count": 24,
   "id": "b4b5e1d0",
   "metadata": {},
   "outputs": [
    {
     "name": "stdout",
     "output_type": "stream",
     "text": [
      "Model MSE score: 8.63482092763158\n",
      "Model MAE score: 2.2166250000000005\n"
     ]
    }
   ],
   "source": [
    "dtr_ml = DecisionTreeRegressor()\n",
    "y_pred = rfr_ml.predict(X_test)\n",
    "\n",
    "mse = mean_squared_error(y_test, y_pred)\n",
    "print(f'Model MSE score: {mse}')\n",
    "\n",
    "mae = mean_absolute_error(y_test, y_pred)\n",
    "print(f'Model MAE score: {mae}')"
   ]
  },
  {
   "cell_type": "code",
   "execution_count": null,
   "id": "933fb622",
   "metadata": {},
   "outputs": [],
   "source": []
  }
 ],
 "metadata": {
  "kernelspec": {
   "display_name": "Python 3 (ipykernel)",
   "language": "python",
   "name": "python3"
  },
  "language_info": {
   "codemirror_mode": {
    "name": "ipython",
    "version": 3
   },
   "file_extension": ".py",
   "mimetype": "text/x-python",
   "name": "python",
   "nbconvert_exporter": "python",
   "pygments_lexer": "ipython3",
   "version": "3.9.7"
  }
 },
 "nbformat": 4,
 "nbformat_minor": 5
}
