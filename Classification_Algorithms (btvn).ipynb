{
 "cells": [
  {
   "cell_type": "code",
   "execution_count": 19,
   "id": "9d87f4b7",
   "metadata": {},
   "outputs": [],
   "source": [
    "import pandas as pd\n",
    "from sklearn.preprocessing import LabelEncoder\n",
    "from sklearn.preprocessing import OrdinalEncoder\n",
    "from sklearn.model_selection import train_test_split\n",
    "from sklearn.linear_model import LogisticRegression\n",
    "from sklearn.svm import SVC\n",
    "from sklearn.tree import DecisionTreeClassifier\n",
    "from sklearn.neighbors import KNeighborsClassifier\n",
    "from sklearn import metrics\n",
    "from sklearn.model_selection import KFold, cross_val_score, RepeatedStratifiedKFold"
   ]
  },
  {
   "cell_type": "code",
   "execution_count": 6,
   "id": "7db74867",
   "metadata": {},
   "outputs": [],
   "source": [
    "#load_dataset\n",
    "def load_dataset(filename):\n",
    "    df_data = pd.read_csv(filename, header=None)\n",
    "    dataset = df_data.values\n",
    "    X = dataset[:, :-1]\n",
    "    y = dataset[:, -1]\n",
    "    X = X.astype(str)\n",
    "    return X, y"
   ]
  },
  {
   "cell_type": "code",
   "execution_count": 7,
   "id": "18d2b8aa",
   "metadata": {},
   "outputs": [],
   "source": [
    "#prepare input\n",
    "def prepare_inputs(X_train, X_test):\n",
    "    oe = OrdinalEncoder()\n",
    "    oe.fit(X_train)\n",
    "    X_train_enc = oe.transform(X_train)\n",
    "    X_test_enc = oe.transform(X_test)\n",
    "    return X_train_enc, X_test_enc"
   ]
  },
  {
   "cell_type": "code",
   "execution_count": 8,
   "id": "35b898c4",
   "metadata": {},
   "outputs": [],
   "source": [
    "#prepare output\n",
    "def prepare_outputs(y_train, y_test):\n",
    "    le = LabelEncoder()\n",
    "    le.fit(y_train)\n",
    "    y_train_enc = le.transform(y_train)\n",
    "    y_test_enc = le.transform(y_test)\n",
    "    return y_train_enc, y_test_enc"
   ]
  },
  {
   "cell_type": "code",
   "execution_count": 10,
   "id": "468faf5e",
   "metadata": {},
   "outputs": [
    {
     "name": "stdout",
     "output_type": "stream",
     "text": [
      "(286, 9)\n"
     ]
    }
   ],
   "source": [
    "X, y = load_dataset('C:/Users/thanh/Documents/Data/breast-cancer.csv')\n",
    "print(X.shape)"
   ]
  },
  {
   "cell_type": "code",
   "execution_count": 11,
   "id": "e988ef62",
   "metadata": {},
   "outputs": [],
   "source": [
    "X_train, X_test, y_train, y_test = train_test_split(X, y, test_size=0.3, random_state=1)"
   ]
  },
  {
   "cell_type": "code",
   "execution_count": 12,
   "id": "a5f89f1b",
   "metadata": {},
   "outputs": [],
   "source": [
    "X_train_enc, X_test_enc = prepare_inputs(X_train, X_test)"
   ]
  },
  {
   "cell_type": "code",
   "execution_count": 13,
   "id": "a8b04f2e",
   "metadata": {},
   "outputs": [],
   "source": [
    "y_train_enc, y_test_enc = prepare_outputs(y_train, y_test)"
   ]
  },
  {
   "cell_type": "code",
   "execution_count": 54,
   "id": "b68d0774",
   "metadata": {},
   "outputs": [
    {
     "data": {
      "text/plain": [
       "SVC(kernel='linear')"
      ]
     },
     "execution_count": 54,
     "metadata": {},
     "output_type": "execute_result"
    }
   ],
   "source": [
    "svm_ml = SVC(kernel='linear')\n",
    "svm_ml.fit(X_train_enc, y_train_enc)"
   ]
  },
  {
   "cell_type": "code",
   "execution_count": 67,
   "id": "a41d8e2a",
   "metadata": {},
   "outputs": [
    {
     "name": "stdout",
     "output_type": "stream",
     "text": [
      "Model acurracy: 0.627906976744186\n",
      "Model precision: 0.0\n",
      "Modelrecall score: 0.0\n"
     ]
    },
    {
     "name": "stderr",
     "output_type": "stream",
     "text": [
      "C:\\Users\\Enoza\\anaconda3\\lib\\site-packages\\sklearn\\metrics\\_classification.py:1248: UndefinedMetricWarning: Precision is ill-defined and being set to 0.0 due to no predicted samples. Use `zero_division` parameter to control this behavior.\n",
      "  _warn_prf(average, modifier, msg_start, len(result))\n"
     ]
    }
   ],
   "source": [
    "y_pred = svm_ml.predict(X_test_enc)\n",
    "\n",
    "acc = metrics.accuracy_score(y_test_enc, y_pred)\n",
    "print(f'Model acurracy: {acc}')\n",
    "\n",
    "pres = metrics.precision_score(y_test_enc, y_pred)\n",
    "print(f'Model precision: {pres}')\n",
    "\n",
    "rec = metrics.recall_score(y_test_enc, y_pred)\n",
    "print(f'Model recall score: {rec}')"
   ]
  },
  {
   "cell_type": "code",
   "execution_count": 75,
   "id": "2acc9f76",
   "metadata": {},
   "outputs": [
    {
     "name": "stdout",
     "output_type": "stream",
     "text": [
      "Accuracy: 0.6819078947368421\n"
     ]
    }
   ],
   "source": [
    "svm_ml = SVC(kernel='linear')\n",
    "\n",
    "cv = KFold(n_splits=3, shuffle=True, random_state=1)\n",
    "\n",
    "oe = OrdinalEncoder()\n",
    "X_enc = oe.fit_transform(X)\n",
    "le = LabelEncoder()\n",
    "y_enc = le.fit_transform(y)\n",
    "\n",
    "result = cross_val_score(svm_ml, X_enc, y_enc, cv=cv, scoring='accuracy')\n",
    "\n",
    "print(f'Accuracy: {result.mean()}')"
   ]
  },
  {
   "cell_type": "code",
   "execution_count": 81,
   "id": "7d6f2706",
   "metadata": {},
   "outputs": [
    {
     "name": "stdout",
     "output_type": "stream",
     "text": [
      "Cross validation accuracy score: 0.6969541910331384\n"
     ]
    }
   ],
   "source": [
    "svm_ml = SVC(kernel='linear')\n",
    "\n",
    "cv = RepeatedStratifiedKFold(n_splits=3, n_repeats=3, random_state=1)\n",
    "\n",
    "oe = OrdinalEncoder()\n",
    "X_enc = oe.fit_transform(X)\n",
    "le = LabelEncoder()\n",
    "y_enc = le.fit_transform(y)\n",
    "\n",
    "scores = cross_val_score(svm_ml, X_enc, y_enc, scoring='accuracy', cv=cv, n_jobs=-1)\n",
    "\n",
    "print(f'Cross validation accuracy score: {scores.mean()}')"
   ]
  },
  {
   "cell_type": "code",
   "execution_count": 69,
   "id": "8d6cc1c8",
   "metadata": {},
   "outputs": [
    {
     "data": {
      "text/plain": [
       "LogisticRegression()"
      ]
     },
     "execution_count": 69,
     "metadata": {},
     "output_type": "execute_result"
    }
   ],
   "source": [
    "lgr_ml = LogisticRegression(solver='lbfgs')\n",
    "\n",
    "lgr_ml.fit(X_train_enc, y_train_enc)"
   ]
  },
  {
   "cell_type": "code",
   "execution_count": 71,
   "id": "0e48d5f5",
   "metadata": {},
   "outputs": [
    {
     "name": "stdout",
     "output_type": "stream",
     "text": [
      "Model acurracy: 0.7209302325581395\n",
      "Model precision: 0.9\n",
      "Model recall score: 0.28125\n"
     ]
    }
   ],
   "source": [
    "y_pred = lgr_ml.predict(X_test_enc)\n",
    "\n",
    "acc = metrics.accuracy_score(y_test_enc, y_pred)\n",
    "print(f'Model acurracy: {acc}')\n",
    "\n",
    "pres = metrics.precision_score(y_test_enc, y_pred)\n",
    "print(f'Model precision: {pres}')\n",
    "\n",
    "rec = metrics.recall_score(y_test_enc, y_pred)\n",
    "print(f'Model recall score: {rec}')"
   ]
  },
  {
   "cell_type": "code",
   "execution_count": 79,
   "id": "9891870e",
   "metadata": {},
   "outputs": [
    {
     "name": "stdout",
     "output_type": "stream",
     "text": [
      "Model cross validation accuracy score: 0.744736842105263\n"
     ]
    }
   ],
   "source": [
    "lgr_ml = LogisticRegression(solver='lbfgs')\n",
    "\n",
    "cv = KFold(n_splits=3, shuffle=True, random_state=1)\n",
    "\n",
    "oe = OrdinalEncoder()\n",
    "X_enc = oe.fit_transform(X)\n",
    "le = LabelEncoder()\n",
    "y_enc = le.fit_transform(y)\n",
    "\n",
    "result = cross_val_score(lgr_ml, X_enc, y_enc, cv=cv, scoring='accuracy')\n",
    "print(f'Model cross validation accuracy score: {result.mean()}')"
   ]
  },
  {
   "cell_type": "code",
   "execution_count": 82,
   "id": "44e2e5ff",
   "metadata": {},
   "outputs": [
    {
     "name": "stdout",
     "output_type": "stream",
     "text": [
      "Model cross validation accuracy score: 0.7301349765258216\n"
     ]
    }
   ],
   "source": [
    "lgr_ml = LogisticRegression(solver='lbfgs')\n",
    "\n",
    "cv = RepeatedStratifiedKFold(n_splits=4, n_repeats=10, random_state=1)\n",
    "\n",
    "oe = OrdinalEncoder()\n",
    "X_enc = oe.fit_transform(X)\n",
    "le = LabelEncoder()\n",
    "y_enc = le.fit_transform(y)\n",
    "\n",
    "result = cross_val_score(lgr_ml, X_enc, y_enc, cv=cv, scoring='accuracy', n_jobs=-1)\n",
    "print(f'Cross validation accuracy score: {result.mean()}')"
   ]
  },
  {
   "cell_type": "code",
   "execution_count": 14,
   "id": "468d0e24",
   "metadata": {},
   "outputs": [
    {
     "data": {
      "text/plain": [
       "DecisionTreeClassifier()"
      ]
     },
     "execution_count": 14,
     "metadata": {},
     "output_type": "execute_result"
    }
   ],
   "source": [
    "#DecisionTreeClassifier\n",
    "dtc_ml = DecisionTreeClassifier()\n",
    "dtc_ml.fit(X_train_enc, y_train_enc)"
   ]
  },
  {
   "cell_type": "code",
   "execution_count": 15,
   "id": "937f8859",
   "metadata": {},
   "outputs": [
    {
     "name": "stdout",
     "output_type": "stream",
     "text": [
      "Model acurracy: 0.686046511627907\n",
      "Model precision: 0.6470588235294118\n",
      "Model recall score: 0.34375\n"
     ]
    }
   ],
   "source": [
    "y_pred = dtc_ml.predict(X_test_enc)\n",
    "\n",
    "acc = metrics.accuracy_score(y_test_enc, y_pred)\n",
    "print(f'Model acurracy: {acc}')\n",
    "\n",
    "pres = metrics.precision_score(y_test_enc, y_pred)\n",
    "print(f'Model precision: {pres}')\n",
    "\n",
    "rec = metrics.recall_score(y_test_enc, y_pred)\n",
    "print(f'Model recall score: {rec}')"
   ]
  },
  {
   "cell_type": "code",
   "execution_count": 17,
   "id": "2344241a",
   "metadata": {},
   "outputs": [
    {
     "name": "stdout",
     "output_type": "stream",
     "text": [
      "Accuracy: 0.6641447368421053\n"
     ]
    }
   ],
   "source": [
    "dtc_ml = DecisionTreeClassifier()\n",
    "\n",
    "cv = KFold(n_splits=3, shuffle=True, random_state=1)\n",
    "\n",
    "oe = OrdinalEncoder()\n",
    "X_enc = oe.fit_transform(X)\n",
    "le = LabelEncoder()\n",
    "y_enc = le.fit_transform(y)\n",
    "\n",
    "result = cross_val_score(dtc_ml, X_enc, y_enc, cv=cv, scoring='accuracy')\n",
    "\n",
    "print(f'Accuracy: {result.mean()}')"
   ]
  },
  {
   "cell_type": "code",
   "execution_count": 22,
   "id": "ccfc000a",
   "metadata": {},
   "outputs": [
    {
     "name": "stdout",
     "output_type": "stream",
     "text": [
      "Cross validation accuracy score: 0.6462490219092331\n"
     ]
    }
   ],
   "source": [
    "dtc_ml = DecisionTreeClassifier()\n",
    "\n",
    "cv = RepeatedStratifiedKFold(n_splits=4, n_repeats=10, random_state=1)\n",
    "\n",
    "oe = OrdinalEncoder()\n",
    "X_enc = oe.fit_transform(X)\n",
    "le = LabelEncoder()\n",
    "y_enc = le.fit_transform(y)\n",
    "\n",
    "result = cross_val_score(dtc_ml, X_enc, y_enc, cv=cv, scoring='accuracy', n_jobs=-1)\n",
    "print(f'Cross validation accuracy score: {result.mean()}')"
   ]
  },
  {
   "cell_type": "code",
   "execution_count": 20,
   "id": "c9ea1a24",
   "metadata": {},
   "outputs": [
    {
     "data": {
      "text/plain": [
       "KNeighborsClassifier()"
      ]
     },
     "execution_count": 20,
     "metadata": {},
     "output_type": "execute_result"
    }
   ],
   "source": [
    "#KNeighborsClassifier\n",
    "knc_ml = KNeighborsClassifier()\n",
    "knc_ml.fit(X_train_enc, y_train_enc)"
   ]
  },
  {
   "cell_type": "code",
   "execution_count": 21,
   "id": "cdb51274",
   "metadata": {},
   "outputs": [
    {
     "name": "stdout",
     "output_type": "stream",
     "text": [
      "Model acurracy: 0.6511627906976745\n",
      "Model precision: 0.5833333333333334\n",
      "Model recall score: 0.21875\n"
     ]
    }
   ],
   "source": [
    "y_pred = knc_ml.predict(X_test_enc)\n",
    "\n",
    "acc = metrics.accuracy_score(y_test_enc, y_pred)\n",
    "print(f'Model acurracy: {acc}')\n",
    "\n",
    "pres = metrics.precision_score(y_test_enc, y_pred)\n",
    "print(f'Model precision: {pres}')\n",
    "\n",
    "rec = metrics.recall_score(y_test_enc, y_pred)\n",
    "print(f'Model recall score: {rec}')"
   ]
  },
  {
   "cell_type": "code",
   "execution_count": 23,
   "id": "5fa9bc6e",
   "metadata": {},
   "outputs": [
    {
     "name": "stdout",
     "output_type": "stream",
     "text": [
      "Accuracy: 0.6958698830409357\n"
     ]
    }
   ],
   "source": [
    "knc_ml = KNeighborsClassifier()\n",
    "\n",
    "cv = KFold(n_splits=3, shuffle=True, random_state=1)\n",
    "\n",
    "oe = OrdinalEncoder()\n",
    "X_enc = oe.fit_transform(X)\n",
    "le = LabelEncoder()\n",
    "y_enc = le.fit_transform(y)\n",
    "\n",
    "result = cross_val_score(knc_ml, X_enc, y_enc, cv=cv, scoring='accuracy')\n",
    "\n",
    "print(f'Accuracy: {result.mean()}')"
   ]
  },
  {
   "cell_type": "code",
   "execution_count": 24,
   "id": "576866ac",
   "metadata": {},
   "outputs": [
    {
     "name": "stdout",
     "output_type": "stream",
     "text": [
      "Cross validation accuracy score: 0.6399647887323944\n"
     ]
    }
   ],
   "source": [
    "knc_ml = DecisionTreeClassifier()\n",
    "\n",
    "cv = RepeatedStratifiedKFold(n_splits=4, n_repeats=10, random_state=1)\n",
    "\n",
    "oe = OrdinalEncoder()\n",
    "X_enc = oe.fit_transform(X)\n",
    "le = LabelEncoder()\n",
    "y_enc = le.fit_transform(y)\n",
    "\n",
    "result = cross_val_score(knc_ml, X_enc, y_enc, cv=cv, scoring='accuracy', n_jobs=-1)\n",
    "print(f'Cross validation accuracy score: {result.mean()}')"
   ]
  },
  {
   "cell_type": "code",
   "execution_count": null,
   "id": "2ca3f2af",
   "metadata": {},
   "outputs": [],
   "source": []
  }
 ],
 "metadata": {
  "kernelspec": {
   "display_name": "Python 3 (ipykernel)",
   "language": "python",
   "name": "python3"
  },
  "language_info": {
   "codemirror_mode": {
    "name": "ipython",
    "version": 3
   },
   "file_extension": ".py",
   "mimetype": "text/x-python",
   "name": "python",
   "nbconvert_exporter": "python",
   "pygments_lexer": "ipython3",
   "version": "3.9.7"
  }
 },
 "nbformat": 4,
 "nbformat_minor": 5
}
